{
  "nbformat": 4,
  "nbformat_minor": 0,
  "metadata": {
    "colab": {
      "provenance": [],
      "authorship_tag": "ABX9TyOBgY9jRU8savszzWmgTCkm",
      "include_colab_link": true
    },
    "kernelspec": {
      "name": "python3",
      "display_name": "Python 3"
    },
    "language_info": {
      "name": "python"
    }
  },
  "cells": [
    {
      "cell_type": "markdown",
      "metadata": {
        "id": "view-in-github",
        "colab_type": "text"
      },
      "source": [
        "<a href=\"https://colab.research.google.com/github/Awatef-f/trabalho-georges/blob/master/logica.ipynb\" target=\"_parent\"><img src=\"https://colab.research.google.com/assets/colab-badge.svg\" alt=\"Open In Colab\"/></a>"
      ]
    },
    {
      "cell_type": "code",
      "source": [
        "# Listas para armazenar os dados\n",
        "produtos = []  # Lista de produtos cadastrados\n",
        "clientes = []  # Lista de clientes cadastrados\n",
        "pedidos = []   # Lista de pedidos realizados\n"
      ],
      "metadata": {
        "id": "MP18E-aKOA_O"
      },
      "execution_count": 4,
      "outputs": []
    },
    {
      "cell_type": "code",
      "source": [
        "\n",
        "def cadastrar_produtos():\n",
        "    nome = input(\"Digite o nome do produto: \")\n",
        "    preco = float(input(\"Digite o preço do produto: \"))\n",
        "    produtos.append({\"nome\": nome, \"preco\": preco})\n",
        "    print(\"Produto cadastrado com sucesso!\")"
      ],
      "metadata": {
        "id": "L1AHgs7MOJRI"
      },
      "execution_count": 5,
      "outputs": []
    },
    {
      "cell_type": "code",
      "source": [
        "# Função para cadastrar um novo cliente\n",
        "def cadastrar_clientes():\n",
        "    nome = input(\"Nome do cliente: \")  # Nome do cliente\n",
        "    telefone = input(\"Telefone: \")  # Telefone\n",
        "    # Adiciona o cliente na lista como dicionário\n",
        "    clientes.append({'nome': nome, 'telefone': telefone})\n",
        "    print(\"Cliente cadastrado com sucesso!\")\n"
      ],
      "metadata": {
        "id": "dQ1qBNn8OMfC"
      },
      "execution_count": 6,
      "outputs": []
    },
    {
      "cell_type": "code",
      "source": [
        "#Função para realizar um pedido\n",
        "def cadastrar_pedidos():\n",
        "    print(\"Clientes:\")\n",
        "    for i in range(len(clientes)):\n",
        "        print(f\"{i} - {clientes[i]['nome']}\")\n",
        "    cliente_id = int(input(\"Escolha o cliente: \"))\n"
      ],
      "metadata": {
        "id": "w24vuvTpOQ-c"
      },
      "execution_count": 7,
      "outputs": []
    },
    {
      "cell_type": "code",
      "source": [
        "# Função para realizar um pedido\n",
        "def fazer_pedido():\n",
        "    if not clientes:\n",
        "        print(\"Nenhum cliente cadastrado.\")\n",
        "        return\n",
        "    if not produtos:\n",
        "        print(\"Nenhum produto cadastrado.\")\n",
        "        return\n",
        "\n",
        "    print(\"Clientes:\")\n",
        "    for i in range(len(clientes)):\n",
        "        print(f\"{i} - {clientes[i]['nome']}\")\n",
        "    cliente_id = int(input(\"Escolha o cliente: \"))\n",
        "\n",
        "    print(\"Produtos:\")\n",
        "    for i in range(len(produtos)):\n",
        "        print(f\"{i} - {produtos[i]['nome']} - R${produtos[i]['preco']:.2f}\")\n",
        "\n",
        "    ids = input(\"Digite os IDs dos produtos (separados por vírgula): \").split(\",\")\n",
        "    itens = []\n",
        "    total = 0\n",
        "\n",
        "    for i in ids:\n",
        "        i = int(i.strip())\n",
        "        produto = produtos[i]\n",
        "        itens.append(produto)\n",
        "        total += produto['preco']\n",
        "\n",
        "    pedidos.append({\n",
        "        'cliente': clientes[cliente_id],\n",
        "        'itens': itens,\n",
        "        'total': total\n",
        "    })\n",
        "\n",
        "    print(f\"Pedido realizado! Total: R${total:.2f}\")"
      ],
      "metadata": {
        "id": "G7kDQWMyOYIE"
      },
      "execution_count": 8,
      "outputs": []
    },
    {
      "cell_type": "code",
      "source": [
        "# Função para mostrar um relatório simples\n",
        "def relatorio():\n",
        "    print(\"\\n--- RELATÓRIO ---\")\n",
        "    print(f\"Total de pedidos: {len(pedidos)}\")\n",
        "    total_vendas = sum(p['total'] for p in pedidos)\n",
        "    print(f\"Total em vendas: R${total_vendas:.2f}\")"
      ],
      "metadata": {
        "id": "PRC2sGnwR73T"
      },
      "execution_count": 9,
      "outputs": []
    },
    {
      "cell_type": "code",
      "source": [
        "# Função principal com o menu do sistema\n",
        "def menu():\n",
        "    while True:\n",
        "        print(\"\\n--- MENU ---\")\n",
        "        print(\"1. Cadastrar Produto\")\n",
        "        print(\"2. Cadastrar Cliente\")\n",
        "        print(\"3. Fazer Pedido\")\n",
        "        print(\"4. Relatório\")\n",
        "        print(\"5. Sair\")\n",
        "        opcao = input(\"Escolha uma opção: \")\n",
        "\n",
        "        if opcao == \"1\":\n",
        "            cadastrar_produtos()\n",
        "        elif opcao == \"2\":\n",
        "            cadastrar_clientes()\n",
        "        elif opcao == \"3\":\n",
        "            cadastrar_pedidos()\n",
        "        elif opcao == \"4\":\n",
        "            relatorio()\n",
        "        elif opcao == \"5\":\n",
        "            print(\"Encerrando o sistema...\")\n",
        "            break\n",
        "        else:\n",
        "            print(\"Opção inválida!\")\n"
      ],
      "metadata": {
        "id": "WJ_0DAbKSBRA"
      },
      "execution_count": 10,
      "outputs": []
    },
    {
      "cell_type": "code",
      "source": [
        "menu()"
      ],
      "metadata": {
        "colab": {
          "base_uri": "https://localhost:8080/"
        },
        "id": "37RL1JVEKSHy",
        "outputId": "f6e6e34c-2191-4fe4-ae17-6a97d0a0e2b1"
      },
      "execution_count": 13,
      "outputs": [
        {
          "output_type": "stream",
          "name": "stdout",
          "text": [
            "\n",
            "--- MENU ---\n",
            "1. Cadastrar Produto\n",
            "2. Cadastrar Cliente\n",
            "3. Fazer Pedido\n",
            "4. Relatório\n",
            "5. Sair\n",
            "Escolha uma opção: 1\n",
            "Digite o nome do produto: cafe\n",
            "Digite o preço do produto: 10\n",
            "Produto cadastrado com sucesso!\n",
            "\n",
            "--- MENU ---\n",
            "1. Cadastrar Produto\n",
            "2. Cadastrar Cliente\n",
            "3. Fazer Pedido\n",
            "4. Relatório\n",
            "5. Sair\n",
            "Escolha uma opção: 2\n",
            "Nome do cliente: eu\n",
            "Telefone: 888888\n",
            "Cliente cadastrado com sucesso!\n",
            "\n",
            "--- MENU ---\n",
            "1. Cadastrar Produto\n",
            "2. Cadastrar Cliente\n",
            "3. Fazer Pedido\n",
            "4. Relatório\n",
            "5. Sair\n",
            "Escolha uma opção: 3\n",
            "Clientes:\n",
            "0 - eu\n",
            "1 - eu\n",
            "Escolha o cliente: 0\n",
            "\n",
            "--- MENU ---\n",
            "1. Cadastrar Produto\n",
            "2. Cadastrar Cliente\n",
            "3. Fazer Pedido\n",
            "4. Relatório\n",
            "5. Sair\n",
            "Escolha uma opção: 4\n",
            "\n",
            "--- RELATÓRIO ---\n",
            "Total de pedidos: 0\n",
            "Total em vendas: R$0.00\n",
            "\n",
            "--- MENU ---\n",
            "1. Cadastrar Produto\n",
            "2. Cadastrar Cliente\n",
            "3. Fazer Pedido\n",
            "4. Relatório\n",
            "5. Sair\n",
            "Escolha uma opção: 3\n",
            "Clientes:\n",
            "0 - eu\n",
            "1 - eu\n",
            "Escolha o cliente: 0\n",
            "\n",
            "--- MENU ---\n",
            "1. Cadastrar Produto\n",
            "2. Cadastrar Cliente\n",
            "3. Fazer Pedido\n",
            "4. Relatório\n",
            "5. Sair\n",
            "Escolha uma opção: 3\n",
            "Clientes:\n",
            "0 - eu\n",
            "1 - eu\n",
            "Escolha o cliente: 1\n",
            "\n",
            "--- MENU ---\n",
            "1. Cadastrar Produto\n",
            "2. Cadastrar Cliente\n",
            "3. Fazer Pedido\n",
            "4. Relatório\n",
            "5. Sair\n",
            "Escolha uma opção:  5\n",
            "Opção inválida!\n",
            "\n",
            "--- MENU ---\n",
            "1. Cadastrar Produto\n",
            "2. Cadastrar Cliente\n",
            "3. Fazer Pedido\n",
            "4. Relatório\n",
            "5. Sair\n",
            "Escolha uma opção: 5\n",
            "Encerrando o sistema...\n"
          ]
        }
      ]
    },
    {
      "cell_type": "code",
      "source": [
        "print(clientes)"
      ],
      "metadata": {
        "colab": {
          "base_uri": "https://localhost:8080/"
        },
        "id": "QifZitviK8Bq",
        "outputId": "94ec22b8-ee3d-480b-c171-3ee592d27fed"
      },
      "execution_count": 12,
      "outputs": [
        {
          "output_type": "stream",
          "name": "stdout",
          "text": [
            "[{'nome': 'eu', 'telefone': '222222222222222'}]\n"
          ]
        }
      ]
    }
  ]
}